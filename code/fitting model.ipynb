{
 "cells": [
  {
   "cell_type": "code",
   "execution_count": 206,
   "outputs": [],
   "source": [
    "import pandas as pd\n",
    "import numpy as np\n",
    "from sklearn.linear_model import LogisticRegressionCV, LogisticRegression\n",
    "from sklearn.feature_selection import RFECV, RFE\n",
    "from matplotlib import pyplot as plt\n",
    "from sklearn.ensemble import RandomForestClassifier\n",
    "from sklearn.metrics import confusion_matrix, ConfusionMatrixDisplay, recall_score\n",
    "from sklearn.model_selection import cross_validate, GridSearchCV, cross_val_score, RandomizedSearchCV\n",
    "from sklearn.svm import SVC\n",
    "from sklearn.pipeline import make_pipeline\n",
    "from sklearn.preprocessing import StandardScaler\n",
    "from sklearn.naive_bayes import MultinomialNB\n",
    "\n",
    "pd.set_option(\"display.max_columns\", None)"
   ],
   "metadata": {
    "collapsed": false,
    "pycharm": {
     "name": "#%%\n"
    }
   }
  },
  {
   "cell_type": "code",
   "execution_count": 84,
   "outputs": [],
   "source": [
    "bank_logit = pd.read_csv(\"../data/bank_selected.csv\")\n",
    "bank_raw = pd.read_csv(\"../data/bank_imputed_imp.csv\")"
   ],
   "metadata": {
    "collapsed": false,
    "pycharm": {
     "name": "#%%\n"
    }
   }
  },
  {
   "cell_type": "code",
   "execution_count": 85,
   "outputs": [],
   "source": [
    "bank_logit.head()\n",
    "\n",
    "bank_X = bank_logit.drop(columns = [\"y\"])\n",
    "bank_y = bank_logit[\"y\"]\n",
    "bank_poutcome = bank_raw[\"poutcome\"]\n",
    "bank_raw_X = bank_raw.drop(columns = [\"y\", \"poutcome\"])\n",
    "bank_raw_y = bank_raw[\"y\"]"
   ],
   "metadata": {
    "collapsed": false,
    "pycharm": {
     "name": "#%%\n"
    }
   }
  },
  {
   "cell_type": "code",
   "execution_count": 86,
   "outputs": [
    {
     "data": {
      "text/plain": "0.7569437700301058"
     },
     "execution_count": 86,
     "metadata": {},
     "output_type": "execute_result"
    }
   ],
   "source": [
    "# Weighted logistic regression\n",
    "logit = LogisticRegression(penalty = \"none\", max_iter = 500, class_weight = \"balanced\")\n",
    "logit = logit.fit(bank_X, bank_y)\n",
    "logit.score(bank_X, bank_y)"
   ],
   "metadata": {
    "collapsed": false,
    "pycharm": {
     "name": "#%%\n"
    }
   }
  },
  {
   "cell_type": "code",
   "execution_count": 87,
   "outputs": [],
   "source": [
    "selector = RFE(LogisticRegression(max_iter = 1000, class_weight = \"balanced\"))\n",
    "selector = selector.fit(bank_X, bank_y)\n",
    "logit_feature = bank_X.columns[selector.support_]"
   ],
   "metadata": {
    "collapsed": false,
    "pycharm": {
     "name": "#%%\n"
    }
   }
  },
  {
   "cell_type": "code",
   "execution_count": 88,
   "outputs": [
    {
     "name": "stdout",
     "output_type": "stream",
     "text": [
      "Accuracy: 0.7706613576769933\n",
      "Recall: 0.5877155172413793\n",
      "Mean accuracy via CV: 0.34890666033800843\n",
      "Mean recall via CV: 0.41928242428154017\n"
     ]
    },
    {
     "data": {
      "text/plain": "array([[ 0.68169361, -0.25251088, -0.12108791,  0.71190389, -0.25844017,\n         0.69471273, -0.15149594,  0.17967724, -0.16612299, -0.13498487,\n         0.84744576,  0.94971336, -0.74357954,  1.27386311, -0.69772151,\n         1.34343882, -0.76985968, -0.8172445 ,  1.13026548,  0.86447649,\n        -0.18770545]])"
     },
     "execution_count": 88,
     "metadata": {},
     "output_type": "execute_result"
    }
   ],
   "source": [
    "logit_rfe = LogisticRegression(penalty = \"none\", max_iter = 500, class_weight = \"balanced\")\n",
    "logit_rfe_fit = logit_rfe.fit(bank_X[logit_feature], bank_y)\n",
    "print(f\"Accuracy: {logit_rfe_fit.score(bank_X[logit_feature], bank_y)}\")\n",
    "print(f'Recall: {recall_score(bank_y, logit_rfe_fit.predict(bank_X[logit_feature]), average = \"binary\")}')\n",
    "print(f'Mean accuracy via CV: {np.mean(cross_val_score(logit_rfe, bank_X[logit_feature], bank_y))}')\n",
    "print(f'Mean recall via CV: {np.mean(cross_validate(logit_rfe, bank_X[logit_feature], bank_y, scoring = \"recall_macro\")[\"test_score\"])}')\n",
    "\n",
    "logit_rfe_fit.coef_"
   ],
   "metadata": {
    "collapsed": false,
    "pycharm": {
     "name": "#%%\n"
    }
   }
  },
  {
   "cell_type": "code",
   "execution_count": 89,
   "outputs": [
    {
     "name": "stdout",
     "output_type": "stream",
     "text": [
      "Accuracy: 0.5851439373622296\n",
      "Recall: 0.5825431034482759\n",
      "Mean accuracy via CV: 0.43524239111632285\n",
      "Mean recall via CV: 0.4998230075618343\n"
     ]
    },
    {
     "data": {
      "text/plain": "array([[ 0.2357671 , -0.07286052, -0.00819838,  0.05050841, -0.02617746,\n         0.0356366 , -0.01038185,  0.05782463, -0.00722483, -0.0366348 ,\n         0.0004874 ,  0.16666415, -0.01971426,  0.01520224, -0.03737882,\n         0.04692464, -0.123663  , -0.01955015,  0.04988686,  0.03870097,\n        -0.02292014]])"
     },
     "execution_count": 89,
     "metadata": {},
     "output_type": "execute_result"
    }
   ],
   "source": [
    "# Regularization\n",
    "logit_cv = LogisticRegressionCV(penalty = \"l2\", class_weight = \"balanced\", scoring = \"f1_macro\", n_jobs = -1)\n",
    "logit_cv_fit = logit_cv.fit(bank_X[logit_feature], bank_y)\n",
    "\n",
    "print(f\"Accuracy: {logit_cv_fit.score(bank_X[logit_feature], bank_y)}\")\n",
    "print(f'Recall: {recall_score(bank_y, logit_cv_fit.predict(bank_X[logit_feature]), average = \"binary\")}')\n",
    "print(f'Mean accuracy via CV: {np.mean(cross_validate(logit_cv, bank_X[logit_feature], bank_y, scoring = \"accuracy\")[\"test_score\"])}')\n",
    "print(f'Mean recall via CV: {np.mean(cross_validate(logit_cv, bank_X[logit_feature], bank_y, scoring = \"recall_macro\")[\"test_score\"])}')\n",
    "\n",
    "logit_cv.coef_"
   ],
   "metadata": {
    "collapsed": false,
    "pycharm": {
     "name": "#%%\n"
    }
   }
  },
  {
   "cell_type": "code",
   "execution_count": 90,
   "outputs": [
    {
     "data": {
      "text/plain": "<Figure size 1152x1152 with 2 Axes>",
      "image/png": "[encoded data removed]"
     },
     "metadata": {
      "needs_background": "light"
     },
     "output_type": "display_data"
    }
   ],
   "source": [
    "# Confusion matrix\n",
    "models = [logit_rfe_fit, logit_cv_fit]\n",
    "fig, ax = plt.subplots(1, 2, figsize = (16, 16))\n",
    "for i in range(len(models)):\n",
    "    pred = models[i].predict(bank_X[logit_feature])\n",
    "    cm = confusion_matrix(bank_y, pred, labels = models[i].classes_)\n",
    "\n",
    "    disp = ConfusionMatrixDisplay(confusion_matrix = cm, display_labels = models[i].classes_)\n",
    "    disp.plot(ax = ax[i], colorbar = False)\n",
    "    ax[i].set_title(str(models[i]).split(\"(\")[0])\n"
   ],
   "metadata": {
    "collapsed": false,
    "pycharm": {
     "name": "#%%\n"
    }
   }
  },
  {
   "cell_type": "code",
   "execution_count": 98,
   "outputs": [],
   "source": [
    "# Random forest\n",
    "bank_raw_X = bank_raw_X.join(bank_poutcome)"
   ],
   "metadata": {
    "collapsed": false,
    "pycharm": {
     "name": "#%%\n"
    }
   }
  },
  {
   "cell_type": "code",
   "execution_count": 92,
   "outputs": [],
   "source": [
    "def plot_imporatance(model):\n",
    "    importance = model.feature_importances_[model.feature_importances_ != 0]\n",
    "    feature = bank_raw_X.columns[model.feature_importances_ != 0]\n",
    "\n",
    "    feature_importance = np.sort(np.stack((feature, importance), axis = 1), axis = 0)[::-1]\n",
    "    np.sum(feature_importance[:, 1])\n",
    "\n",
    "    feature = [i[0] for i in feature_importance]\n",
    "    importance = [i[1] for i in feature_importance]\n",
    "\n",
    "    plt.figure(figsize = (16, 8))\n",
    "    plt.barh(feature, importance, height = 0.75)\n",
    "    plt.title(\"Feature Importance\")\n",
    "    plt.gca().invert_yaxis()\n",
    "    plt.show()"
   ],
   "metadata": {
    "collapsed": false,
    "pycharm": {
     "name": "#%%\n"
    }
   }
  },
  {
   "cell_type": "code",
   "execution_count": 197,
   "outputs": [],
   "source": [
    "# rf = RandomForestClassifier(class_weight = \"balanced\", n_jobs = -1, max_samples = 0.2)\n",
    "rf = RandomForestClassifier(class_weight = \"balanced\", min_weight_fraction_leaf = 0.4, max_samples = 0.2)"
   ],
   "metadata": {
    "collapsed": false,
    "pycharm": {
     "name": "#%%\n"
    }
   }
  },
  {
   "cell_type": "code",
   "execution_count": 198,
   "outputs": [],
   "source": [
    "rf_fit = rf.fit(bank_raw_X, bank_raw_y)"
   ],
   "metadata": {
    "collapsed": false,
    "pycharm": {
     "name": "#%%\n"
    }
   }
  },
  {
   "cell_type": "code",
   "execution_count": null,
   "outputs": [],
   "source": [
    "# tuning = GridSearchCV(estimator = rf, param_grid = {\"n_estimators\": np.arange(100, 510, 10)}, cv = 5, verbose = True, n_jobs = -1, scoring = \"f1_macro\").fit(bank_raw_X, bank_raw_y).best_params_"
   ],
   "metadata": {
    "collapsed": false,
    "pycharm": {
     "name": "#%%\n",
     "is_executing": true
    }
   }
  },
  {
   "cell_type": "code",
   "execution_count": 199,
   "outputs": [
    {
     "data": {
      "text/plain": "0.6543633248874162"
     },
     "execution_count": 199,
     "metadata": {},
     "output_type": "execute_result"
    }
   ],
   "source": [
    "np.mean(cross_validate(rf, bank_raw_X, bank_raw_y, n_jobs = -1, scoring = \"accuracy\", cv = 10)[\"test_score\"])"
   ],
   "metadata": {
    "collapsed": false,
    "pycharm": {
     "name": "#%%\n"
    }
   }
  },
  {
   "cell_type": "code",
   "execution_count": 200,
   "outputs": [
    {
     "data": {
      "text/plain": "0.670635967498467"
     },
     "execution_count": 200,
     "metadata": {},
     "output_type": "execute_result"
    }
   ],
   "source": [
    "np.mean(cross_validate(rf, bank_raw_X, bank_raw_y, n_jobs = -1, scoring = \"recall_macro\", cv = 10)[\"test_score\"])"
   ],
   "metadata": {
    "collapsed": false,
    "pycharm": {
     "name": "#%%\n"
    }
   }
  },
  {
   "cell_type": "code",
   "source": [
    "plot_imporatance(rf_fit)"
   ],
   "metadata": {
    "collapsed": false,
    "pycharm": {
     "name": "#%%\n"
    }
   },
   "execution_count": 201,
   "outputs": [
    {
     "data": {
      "text/plain": "<Figure size 1152x576 with 1 Axes>",
      "image/png": "[encoded data removed]"
     },
     "metadata": {
      "needs_background": "light"
     },
     "output_type": "display_data"
    }
   ]
  },
  {
   "cell_type": "code",
   "execution_count": 208,
   "outputs": [],
   "source": [
    "# SVM\n",
    "\n",
    "svc = make_pipeline(StandardScaler(), SVC(gamma = 'auto', class_weight = \"balanced\", kernel = \"linear\"))\n",
    "svc_fit = svc.fit(bank_X, bank_y)\n",
    "# SVM is very resource consuming, and it is not easy to interpret despite possible high accuracy\n"
   ],
   "metadata": {
    "collapsed": false,
    "pycharm": {
     "name": "#%%\n"
    }
   }
  },
  {
   "cell_type": "code",
   "execution_count": null,
   "outputs": [],
   "source": [
    "#\n"
   ],
   "metadata": {
    "collapsed": false,
    "pycharm": {
     "name": "#%%\n"
    }
   }
  }
 ],
 "metadata": {
  "kernelspec": {
   "display_name": "Python 3",
   "language": "python",
   "name": "python3"
  },
  "language_info": {
   "codemirror_mode": {
    "name": "ipython",
    "version": 2
   },
   "file_extension": ".py",
   "mimetype": "text/x-python",
   "name": "python",
   "nbconvert_exporter": "python",
   "pygments_lexer": "ipython2",
   "version": "2.7.6"
  }
 },
 "nbformat": 4,
 "nbformat_minor": 0
}