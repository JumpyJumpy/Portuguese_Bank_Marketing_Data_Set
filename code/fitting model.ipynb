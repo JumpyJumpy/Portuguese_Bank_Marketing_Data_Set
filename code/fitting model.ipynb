{
 "cells": [
  {
   "cell_type": "code",
   "execution_count": 5,
   "metadata": {
    "collapsed": false,
    "pycharm": {
     "name": "#%%\n"
    }
   },
   "outputs": [],
   "source": [
    "import pandas as pd\n",
    "import numpy as np\n",
    "from sklearn.linear_model import LogisticRegressionCV, LogisticRegression\n",
    "from sklearn.feature_selection import RFECV, RFE\n",
    "from matplotlib import pyplot as plt\n",
    "from sklearn.ensemble import RandomForestClassifier\n",
    "from sklearn.metrics import confusion_matrix, ConfusionMatrixDisplay, recall_score\n",
    "from sklearn.model_selection import cross_validate, GridSearchCV, cross_val_score, RandomizedSearchCV\n",
    "from sklearn.svm import SVC\n",
    "from sklearn.pipeline import make_pipeline\n",
    "from sklearn.preprocessing import StandardScaler\n",
    "from sklearn.naive_bayes import ComplementNB\n",
    "\n",
    "pd.set_option(\"display.max_columns\", None)"
   ]
  },
  {
   "cell_type": "code",
   "execution_count": 6,
   "metadata": {
    "collapsed": false,
    "pycharm": {
     "name": "#%%\n"
    }
   },
   "outputs": [],
   "source": [
    "bank_logit = pd.read_csv(\"../data/bank_selected.csv\")\n",
    "bank_raw = pd.read_csv(\"../data/bank_imputed_imp.csv\")\n",
    "month = pd.read_csv(\"../data/Casestudy Data.csv\")[\"month\"]\n",
    "month = pd.get_dummies(month)"
   ]
  },
  {
   "cell_type": "code",
   "execution_count": 30,
   "metadata": {
    "collapsed": false,
    "pycharm": {
     "name": "#%%\n"
    }
   },
   "outputs": [],
   "source": [
    "bank_logit.head()\n",
    "\n",
    "bank_X = bank_logit.drop(columns = [\"y\"])\n",
    "bank_y = bank_logit[\"y\"]\n",
    "bank_poutcome = pd.get_dummies(pd.read_csv(\"../data/Casestudy data.csv\")[\"poutcome\"])\n",
    "bank_raw_X = bank_raw.drop(columns = [\"y\", \"poutcome\"])\n",
    "bank_raw_y = bank_raw[\"y\"]"
   ]
  },
  {
   "cell_type": "code",
   "execution_count": 8,
   "metadata": {
    "collapsed": false,
    "pycharm": {
     "name": "#%%\n"
    }
   },
   "outputs": [
    {
     "name": "stdout",
     "output_type": "stream",
     "text": [
      "Accuracy: 0.6562348256773818\n",
      "Recall: 0.6491379310344828\n",
      "Mean accuracy via CV: 0.5531839602586675\n",
      "Mean recall via CV: 0.4972273221048053\n",
      "27\n"
     ]
    }
   ],
   "source": [
    "\n",
    "logit = LogisticRegression(penalty = \"none\", max_iter = 500, class_weight = \"balanced\")\n",
    "logit_fit = logit.fit(bank_X, bank_y)\n",
    "print(f\"Accuracy: {logit_fit.score(bank_X, bank_y)}\")\n",
    "print(f'Recall: {recall_score(bank_y, logit_fit.predict(bank_X), average = \"binary\")}')\n",
    "print(f'Mean accuracy via CV: {np.mean(cross_val_score(logit, bank_X, bank_y))}')\n",
    "print(f'Mean recall via CV: {np.mean(cross_validate(logit, bank_X, bank_y, scoring = \"recall_macro\")[\"test_score\"])}')\n",
    "print(len(logit_fit.coef_[0]))"
   ]
  },
  {
   "cell_type": "code",
   "execution_count": 9,
   "metadata": {
    "collapsed": false,
    "pycharm": {
     "name": "#%%\n"
    }
   },
   "outputs": [
    {
     "data": {
      "text/plain": [
       "Index(['previous', 'job_blue-collar', 'job_entrepreneur', 'job_retired',\n",
       "       'job_services', 'job_student', 'job_technician', 'job_unemployed',\n",
       "       'marital_single', 'education_basic.4y', 'education_basic.9y',\n",
       "       'education_high.school', 'contact_cellular'],\n",
       "      dtype='object')"
      ]
     },
     "execution_count": 9,
     "metadata": {},
     "output_type": "execute_result"
    }
   ],
   "source": [
    "selector = RFECV(LogisticRegression(max_iter = 1000, class_weight = \"balanced\"), scoring = \"f1_macro\", n_jobs = -1)\n",
    "selector = selector.fit(bank_X, bank_y)\n",
    "logit_feature = bank_X.columns[selector.support_]\n",
    "logit_feature"
   ]
  },
  {
   "cell_type": "code",
   "execution_count": 10,
   "metadata": {
    "collapsed": false,
    "pycharm": {
     "name": "#%%\n"
    }
   },
   "outputs": [
    {
     "name": "stdout",
     "output_type": "stream",
     "text": [
      "Accuracy: 0.653855491890842\n",
      "Recall: 0.6344827586206897\n",
      "Mean accuracy via CV: 0.5637451031520885\n",
      "Mean recall via CV: 0.5757120660726883\n"
     ]
    },
    {
     "data": {
      "text/plain": [
       "array([[ 0.78754608, -0.32657596, -0.18223242,  0.888715  , -0.28422023,\n",
       "         0.87412892, -0.17090012,  0.20972255,  0.23406688, -0.19805222,\n",
       "        -0.24448415, -0.13623515,  0.85014997]])"
      ]
     },
     "execution_count": 10,
     "metadata": {},
     "output_type": "execute_result"
    }
   ],
   "source": [
    "logit_rfe = LogisticRegression(penalty = \"none\", max_iter = 500, class_weight = \"balanced\")\n",
    "logit_rfe_fit = logit_rfe.fit(bank_X[logit_feature], bank_y)\n",
    "print(f\"Accuracy: {logit_rfe_fit.score(bank_X[logit_feature], bank_y)}\")\n",
    "print(f'Recall: {recall_score(bank_y, logit_rfe_fit.predict(bank_X[logit_feature]), average = \"binary\")}')\n",
    "print(f'Mean accuracy via CV: {np.mean(cross_val_score(logit_rfe, bank_X[logit_feature], bank_y))}')\n",
    "print(f'Mean recall via CV: {np.mean(cross_validate(logit_rfe, bank_X[logit_feature], bank_y, scoring = \"recall_macro\")[\"test_score\"])}')\n",
    "\n",
    "logit_rfe_fit.coef_"
   ]
  },
  {
   "cell_type": "code",
   "execution_count": 11,
   "metadata": {
    "collapsed": false,
    "pycharm": {
     "name": "#%%\n"
    }
   },
   "outputs": [
    {
     "name": "stdout",
     "output_type": "stream",
     "text": [
      "Accuracy: 0.5330577924973359\n",
      "Recall: 0.6351293103448276\n",
      "Mean accuracy via CV: 0.5712957830392609\n",
      "Mean recall via CV: 0.5565410822985136\n"
     ]
    },
    {
     "data": {
      "text/plain": [
       "array([[ 0.75338932, -0.34417199, -0.13369637,  0.63587281, -0.26125504,\n",
       "         0.52199415, -0.16155296,  0.10811484,  0.23589579, -0.110154  ,\n",
       "        -0.1942437 , -0.10623948,  0.78989028]])"
      ]
     },
     "execution_count": 11,
     "metadata": {},
     "output_type": "execute_result"
    }
   ],
   "source": [
    "# Regularization\n",
    "logit_cv = LogisticRegressionCV(penalty = \"l2\", class_weight = \"balanced\", scoring = \"f1_macro\", n_jobs = -1)\n",
    "logit_cv_fit = logit_cv.fit(bank_X[logit_feature], bank_y)\n",
    "\n",
    "print(f\"Accuracy: {logit_cv_fit.score(bank_X[logit_feature], bank_y)}\")\n",
    "print(f'Recall: {recall_score(bank_y, logit_cv_fit.predict(bank_X[logit_feature]), average = \"binary\")}')\n",
    "print(f'Mean accuracy via CV: {np.mean(cross_validate(logit_cv, bank_X[logit_feature], bank_y, scoring = \"accuracy\")[\"test_score\"])}')\n",
    "print(f'Mean recall via CV: {np.mean(cross_validate(logit_cv, bank_X[logit_feature], bank_y, scoring = \"recall_macro\")[\"test_score\"])}')\n",
    "\n",
    "logit_cv.coef_"
   ]
  },
  {
   "cell_type": "code",
   "execution_count": 12,
   "metadata": {
    "collapsed": false,
    "pycharm": {
     "name": "#%%\n"
    }
   },
   "outputs": [
    {
     "data": {
      "image/png": "[encoded data removed]",
      "text/plain": [
       "<Figure size 1152x1152 with 2 Axes>"
      ]
     },
     "metadata": {
      "needs_background": "light"
     },
     "output_type": "display_data"
    }
   ],
   "source": [
    "# Confusion matrix\n",
    "models = [logit_rfe_fit, logit_cv_fit]\n",
    "fig, ax = plt.subplots(1, 2, figsize = (16, 16))\n",
    "for i in range(len(models)):\n",
    "    pred = models[i].predict(bank_X[logit_feature])\n",
    "    cm = confusion_matrix(bank_y, pred, labels = models[i].classes_)\n",
    "\n",
    "    disp = ConfusionMatrixDisplay(confusion_matrix = cm, display_labels = models[i].classes_)\n",
    "    disp.plot(ax = ax[i], colorbar = False)\n",
    "    ax[i].set_title(str(models[i]).split(\"(\")[0])\n"
   ]
  },
  {
   "cell_type": "code",
   "execution_count": 31,
   "metadata": {
    "collapsed": false,
    "pycharm": {
     "name": "#%%\n"
    }
   },
   "outputs": [],
   "source": [
    "# Random forest\n",
    "bank_raw_X = bank_raw_X.join(bank_poutcome)"
   ]
  },
  {
   "cell_type": "code",
   "execution_count": 32,
   "metadata": {},
   "outputs": [
    {
     "name": "stdout",
     "output_type": "stream",
     "text": [
      "<class 'pandas.core.frame.DataFrame'>\n",
      "RangeIndex: 41188 entries, 0 to 41187\n",
      "Data columns (total 3 columns):\n",
      " #   Column       Non-Null Count  Dtype\n",
      "---  ------       --------------  -----\n",
      " 0   failure      41188 non-null  uint8\n",
      " 1   nonexistent  41188 non-null  uint8\n",
      " 2   success      41188 non-null  uint8\n",
      "dtypes: uint8(3)\n",
      "memory usage: 120.8 KB\n"
     ]
    }
   ],
   "source": [
    "bank_poutcome.info()"
   ]
  },
  {
   "cell_type": "code",
   "execution_count": 33,
   "metadata": {
    "collapsed": false,
    "pycharm": {
     "name": "#%%\n"
    }
   },
   "outputs": [],
   "source": [
    "def plot_imporatance(model):\n",
    "    importance = model.feature_importances_[model.feature_importances_ != 0]\n",
    "    feature = bank_raw_X.columns[model.feature_importances_ != 0]\n",
    "\n",
    "    feature_importance = np.sort(np.stack((feature, importance), axis = 1), axis = 0)[::-1]\n",
    "    np.sum(feature_importance[:, 1])\n",
    "\n",
    "    feature = [i[0] for i in feature_importance]\n",
    "    importance = [i[1] for i in feature_importance]\n",
    "\n",
    "    plt.figure(figsize = (8, 8))\n",
    "    plt.barh(feature, importance, height = 0.75)\n",
    "    plt.title(\"Feature Importance\")\n",
    "    plt.gca().invert_yaxis()\n",
    "    plt.show()"
   ]
  },
  {
   "cell_type": "code",
   "execution_count": 34,
   "metadata": {
    "collapsed": false,
    "pycharm": {
     "name": "#%%\n"
    }
   },
   "outputs": [],
   "source": [
    "rf = RandomForestClassifier(class_weight = \"balanced\", n_jobs = -1)\n",
    "rf_prun = RandomForestClassifier(class_weight = \"balanced\", min_weight_fraction_leaf = 0.4, max_samples = 0.2)"
   ]
  },
  {
   "cell_type": "code",
   "execution_count": 35,
   "metadata": {
    "collapsed": false,
    "pycharm": {
     "name": "#%%\n"
    }
   },
   "outputs": [
    {
     "data": {
      "text/plain": [
       "0.9945372438574342"
      ]
     },
     "execution_count": 35,
     "metadata": {},
     "output_type": "execute_result"
    }
   ],
   "source": [
    "rf_fit = rf.fit(bank_raw_X, bank_raw_y)\n",
    "rf_fit.score(bank_raw_X, bank_raw_y)"
   ]
  },
  {
   "cell_type": "code",
   "execution_count": 36,
   "metadata": {},
   "outputs": [
    {
     "data": {
      "text/plain": [
       "0.5582083277473313"
      ]
     },
     "execution_count": 36,
     "metadata": {},
     "output_type": "execute_result"
    }
   ],
   "source": [
    "np.mean(cross_validate(rf, bank_raw_X, bank_raw_y, n_jobs = -1, scoring = \"accuracy\", cv = 10)[\"test_score\"])"
   ]
  },
  {
   "cell_type": "code",
   "execution_count": 17,
   "metadata": {},
   "outputs": [
    {
     "data": {
      "text/plain": [
       "0.3704414792514172"
      ]
     },
     "execution_count": 17,
     "metadata": {},
     "output_type": "execute_result"
    }
   ],
   "source": [
    "np.mean(cross_validate(rf, bank_raw_X, bank_raw_y, n_jobs = -1, scoring = \"recall_macro\", cv = 10)[\"test_score\"])"
   ]
  },
  {
   "cell_type": "code",
   "execution_count": 18,
   "metadata": {},
   "outputs": [
    {
     "data": {
      "text/plain": [
       "0.997198275862069"
      ]
     },
     "execution_count": 18,
     "metadata": {},
     "output_type": "execute_result"
    }
   ],
   "source": [
    "recall_score(bank_raw_y, rf_fit.predict(bank_raw_X))"
   ]
  },
  {
   "cell_type": "code",
   "execution_count": 37,
   "metadata": {
    "collapsed": false,
    "pycharm": {
     "name": "#%%\n"
    }
   },
   "outputs": [
    {
     "name": "stdout",
     "output_type": "stream",
     "text": [
      "Fitting 10 folds for each of 10 candidates, totalling 100 fits\n"
     ]
    },
    {
     "data": {
      "text/plain": [
       "{'min_weight_fraction_leaf': 0.4}"
      ]
     },
     "execution_count": 37,
     "metadata": {},
     "output_type": "execute_result"
    }
   ],
   "source": [
    "GridSearchCV(estimator = rf_prun, param_grid = {\"min_weight_fraction_leaf\": np.arange(0, 0.5, 0.05)}, cv = 10, verbose = True, n_jobs = -1, scoring = \"f1_macro\").fit(bank_raw_X, bank_raw_y).best_params_"
   ]
  },
  {
   "cell_type": "code",
   "execution_count": 40,
   "metadata": {},
   "outputs": [
    {
     "data": {
      "text/plain": [
       "0.7199184228416043"
      ]
     },
     "execution_count": 40,
     "metadata": {},
     "output_type": "execute_result"
    }
   ],
   "source": [
    "rf_prun_fit = rf_prun.fit(bank_raw_X, bank_raw_y)\n",
    "rf_prun_fit.score(bank_raw_X, bank_raw_y)"
   ]
  },
  {
   "cell_type": "code",
   "execution_count": 41,
   "metadata": {
    "collapsed": false,
    "pycharm": {
     "name": "#%%\n"
    }
   },
   "outputs": [
    {
     "data": {
      "text/plain": [
       "0.6349168572981956"
      ]
     },
     "execution_count": 41,
     "metadata": {},
     "output_type": "execute_result"
    }
   ],
   "source": [
    "np.mean(cross_validate(rf_prun, bank_raw_X, bank_raw_y, n_jobs = -1, scoring = \"accuracy\", cv = 10)[\"test_score\"])"
   ]
  },
  {
   "cell_type": "code",
   "execution_count": 42,
   "metadata": {
    "collapsed": false,
    "pycharm": {
     "name": "#%%\n"
    }
   },
   "outputs": [
    {
     "data": {
      "text/plain": [
       "0.6785770260389642"
      ]
     },
     "execution_count": 42,
     "metadata": {},
     "output_type": "execute_result"
    }
   ],
   "source": [
    "np.mean(cross_validate(rf_prun, bank_raw_X, bank_raw_y, n_jobs = -1, scoring = \"recall_macro\", cv = 10)[\"test_score\"])"
   ]
  },
  {
   "cell_type": "code",
   "execution_count": 43,
   "metadata": {},
   "outputs": [
    {
     "data": {
      "text/plain": [
       "0.7114224137931034"
      ]
     },
     "execution_count": 43,
     "metadata": {},
     "output_type": "execute_result"
    }
   ],
   "source": [
    "recall_score(bank_raw_y, rf_prun_fit.predict(bank_raw_X))"
   ]
  },
  {
   "cell_type": "code",
   "execution_count": 46,
   "metadata": {},
   "outputs": [
    {
     "name": "stdout",
     "output_type": "stream",
     "text": [
      "<class 'pandas.core.frame.DataFrame'>\n",
      "RangeIndex: 41188 entries, 0 to 41187\n",
      "Data columns (total 38 columns):\n",
      " #   Column                         Non-Null Count  Dtype  \n",
      "---  ------                         --------------  -----  \n",
      " 0   age                            41188 non-null  float64\n",
      " 1   default                        41188 non-null  float64\n",
      " 2   housing                        41188 non-null  float64\n",
      " 3   loan                           41188 non-null  float64\n",
      " 4   campaign                       41188 non-null  float64\n",
      " 5   pdays                          41188 non-null  float64\n",
      " 6   previous                       41188 non-null  float64\n",
      " 7   emp.var.rate                   41188 non-null  float64\n",
      " 8   cons.price.idx                 41188 non-null  float64\n",
      " 9   cons.conf.idx                  41188 non-null  float64\n",
      " 10  euribor3m                      41188 non-null  float64\n",
      " 11  nr.employed                    41188 non-null  float64\n",
      " 12  job_admin.                     41188 non-null  float64\n",
      " 13  job_blue-collar                41188 non-null  float64\n",
      " 14  job_entrepreneur               41188 non-null  float64\n",
      " 15  job_housemaid                  41188 non-null  float64\n",
      " 16  job_management                 41188 non-null  float64\n",
      " 17  job_retired                    41188 non-null  float64\n",
      " 18  job_self-employed              41188 non-null  float64\n",
      " 19  job_services                   41188 non-null  float64\n",
      " 20  job_student                    41188 non-null  float64\n",
      " 21  job_technician                 41188 non-null  float64\n",
      " 22  job_unemployed                 41188 non-null  float64\n",
      " 23  marital_divorced               41188 non-null  float64\n",
      " 24  marital_married                41188 non-null  float64\n",
      " 25  marital_single                 41188 non-null  float64\n",
      " 26  education_basic.4y             41188 non-null  float64\n",
      " 27  education_basic.6y             41188 non-null  float64\n",
      " 28  education_basic.9y             41188 non-null  float64\n",
      " 29  education_high.school          41188 non-null  float64\n",
      " 30  education_illiterate           41188 non-null  float64\n",
      " 31  education_professional.course  41188 non-null  float64\n",
      " 32  education_university.degree    41188 non-null  float64\n",
      " 33  contact_cellular               41188 non-null  float64\n",
      " 34  contact_telephone              41188 non-null  float64\n",
      " 35  failure                        41188 non-null  uint8  \n",
      " 36  nonexistent                    41188 non-null  uint8  \n",
      " 37  success                        41188 non-null  uint8  \n",
      "dtypes: float64(35), uint8(3)\n",
      "memory usage: 11.1 MB\n"
     ]
    }
   ],
   "source": [
    "bank_raw_X.info()"
   ]
  },
  {
   "cell_type": "code",
   "execution_count": 44,
   "metadata": {
    "collapsed": false,
    "pycharm": {
     "name": "#%%\n"
    }
   },
   "outputs": [
    {
     "data": {
      "image/png": "[encoded data removed]",
      "text/plain": [
       "<Figure size 576x576 with 1 Axes>"
      ]
     },
     "metadata": {
      "needs_background": "light"
     },
     "output_type": "display_data"
    }
   ],
   "source": [
    "plot_imporatance(rf_prun_fit)"
   ]
  },
  {
   "cell_type": "code",
   "execution_count": null,
   "metadata": {
    "collapsed": false,
    "pycharm": {
     "name": "#%%\n"
    }
   },
   "outputs": [],
   "source": [
    "\n"
   ]
  },
  {
   "cell_type": "code",
   "execution_count": 53,
   "metadata": {
    "collapsed": false,
    "pycharm": {
     "name": "#%%\n"
    }
   },
   "outputs": [],
   "source": [
    "#\n",
    "bank_X_nb = bank_X\n",
    "bank_X_nb.loc[bank_X_nb[\"default\"] < 0, \"default\"] = 0\n",
    "bank_X_nb.loc[bank_X_nb[\"housing\"] < 0, \"housing\"] = 0\n",
    "bank_X_nb[\"cons.conf.idx\"] = bank_X_nb[\"cons.conf.idx\"] * -1"
   ]
  },
  {
   "cell_type": "code",
   "execution_count": 54,
   "metadata": {
    "collapsed": false,
    "pycharm": {
     "name": "#%%\n"
    }
   },
   "outputs": [
    {
     "data": {
      "text/plain": [
       "age                              0\n",
       "default                          0\n",
       "housing                          0\n",
       "loan                             0\n",
       "campaign                         0\n",
       "previous                         0\n",
       "cons.conf.idx                    0\n",
       "nr.employed                      0\n",
       "job_admin.                       0\n",
       "job_blue-collar                  0\n",
       "job_entrepreneur                 0\n",
       "job_housemaid                    0\n",
       "job_management                   0\n",
       "job_retired                      0\n",
       "job_self-employed                0\n",
       "job_services                     0\n",
       "job_student                      0\n",
       "job_technician                   0\n",
       "job_unemployed                   0\n",
       "marital_single                   0\n",
       "education_basic.4y               0\n",
       "education_basic.6y               0\n",
       "education_basic.9y               0\n",
       "education_high.school            0\n",
       "education_professional.course    0\n",
       "education_university.degree      0\n",
       "contact_cellular                 0\n",
       "dtype: int64"
      ]
     },
     "execution_count": 54,
     "metadata": {},
     "output_type": "execute_result"
    }
   ],
   "source": [
    "np.sum(bank_X_nb < 0)"
   ]
  },
  {
   "cell_type": "code",
   "execution_count": 55,
   "metadata": {
    "collapsed": false,
    "pycharm": {
     "name": "#%%\n"
    }
   },
   "outputs": [
    {
     "data": {
      "text/plain": [
       "0.6925075264640187"
      ]
     },
     "execution_count": 55,
     "metadata": {},
     "output_type": "execute_result"
    }
   ],
   "source": [
    "nb = ComplementNB()\n",
    "nb_fit = nb.fit(bank_X_nb, bank_y)\n",
    "\n",
    "nb_fit.score(bank_X_nb, bank_y)"
   ]
  },
  {
   "cell_type": "code",
   "execution_count": 84,
   "metadata": {},
   "outputs": [
    {
     "data": {
      "text/plain": [
       "0.561853448275862"
      ]
     },
     "execution_count": 84,
     "metadata": {},
     "output_type": "execute_result"
    }
   ],
   "source": [
    "recall_score(bank_y, nb_fit.predict(bank_X))"
   ]
  },
  {
   "cell_type": "code",
   "execution_count": 82,
   "metadata": {},
   "outputs": [
    {
     "data": {
      "text/plain": [
       "0.6186179769084734"
      ]
     },
     "execution_count": 82,
     "metadata": {},
     "output_type": "execute_result"
    }
   ],
   "source": [
    "np.mean(cross_validate(nb, bank_X, bank_y, scoring = \"accuracy\")[\"test_score\"])"
   ]
  },
  {
   "cell_type": "code",
   "execution_count": 83,
   "metadata": {},
   "outputs": [
    {
     "data": {
      "text/plain": [
       "0.5613804572871668"
      ]
     },
     "execution_count": 83,
     "metadata": {},
     "output_type": "execute_result"
    }
   ],
   "source": [
    "np.mean(cross_validate(nb, bank_X, bank_y, scoring = \"recall_macro\")[\"test_score\"])"
   ]
  },
  {
   "cell_type": "code",
   "execution_count": 77,
   "metadata": {
    "collapsed": false,
    "pycharm": {
     "name": "#%%\n"
    }
   },
   "outputs": [
    {
     "ename": "SyntaxError",
     "evalue": "invalid character '（' (U+FF08) (680010481.py, line 5)",
     "output_type": "error",
     "traceback": [
      "\u001b[1;36m  Input \u001b[1;32mIn [77]\u001b[1;36m\u001b[0m\n\u001b[1;33m    svc_fit.score（\u001b[0m\n\u001b[1;37m                 ^\u001b[0m\n\u001b[1;31mSyntaxError\u001b[0m\u001b[1;31m:\u001b[0m invalid character '（' (U+FF08)\n"
     ]
    }
   ],
   "source": [
    "# SVM\n",
    "svc = make_pipeline(StandardScaler(), SVC(gamma = 'auto', class_weight = \"balanced\", kernel = \"linear\"))\n",
    "svc_fit = svc.fit(bank_X, bank_y)\n",
    "# SVM is very resource consuming, and it is not easy to interpret despite possible high accuracy"
   ]
  },
  {
   "cell_type": "code",
   "execution_count": 78,
   "metadata": {
    "collapsed": false,
    "pycharm": {
     "name": "#%%\n"
    }
   },
   "outputs": [
    {
     "data": {
      "text/plain": [
       "0.7199669806739827"
      ]
     },
     "execution_count": 78,
     "metadata": {},
     "output_type": "execute_result"
    }
   ],
   "source": [
    "svc_fit.score(bank_X, bank_y)"
   ]
  },
  {
   "cell_type": "code",
   "execution_count": 79,
   "metadata": {},
   "outputs": [
    {
     "data": {
      "text/plain": [
       "0.7112068965517241"
      ]
     },
     "execution_count": 79,
     "metadata": {},
     "output_type": "execute_result"
    }
   ],
   "source": [
    "recall_score(bank_y, svc_fit.predict(bank_X))"
   ]
  },
  {
   "cell_type": "code",
   "execution_count": null,
   "metadata": {},
   "outputs": [],
   "source": []
  }
 ],
 "metadata": {
  "kernelspec": {
   "display_name": "Python 3",
   "language": "python",
   "name": "python3"
  },
  "language_info": {
   "codemirror_mode": {
    "name": "ipython",
    "version": 3
   },
   "file_extension": ".py",
   "mimetype": "text/x-python",
   "name": "python",
   "nbconvert_exporter": "python",
   "pygments_lexer": "ipython3",
   "version": "3.9.9"
  }
 },
 "nbformat": 4,
 "nbformat_minor": 0
}
