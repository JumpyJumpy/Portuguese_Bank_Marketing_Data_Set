{
 "cells": [
  {
   "cell_type": "code",
   "execution_count": null,
   "outputs": [],
   "source": [
    "import pandas as pd\n",
    "import numpy as np\n",
    "from sklearn.linear_model import LogisticRegressionCV, LogisticRegression, SGDClassifier\n",
    "from sklearn.feature_selection import RFECV, RFE\n",
    "from matplotlib import pyplot as plt\n",
    "from sklearn.ensemble import RandomForestClassifier\n",
    "from sklearn.metrics import confusion_matrix, ConfusionMatrixDisplay, recall_score\n",
    "\n",
    "pd.set_option(\"display.max_columns\", None)"
   ],
   "metadata": {
    "collapsed": false,
    "pycharm": {
     "name": "#%%\n"
    }
   }
  },
  {
   "cell_type": "code",
   "execution_count": null,
   "outputs": [],
   "source": [
    "bank_logit = pd.read_csv(\"../data/bank_selected.csv\")\n",
    "bank_raw = pd.read_csv(\"../data/bank_imputed_imp.csv\")"
   ],
   "metadata": {
    "collapsed": false,
    "pycharm": {
     "name": "#%%\n"
    }
   }
  },
  {
   "cell_type": "code",
   "execution_count": null,
   "outputs": [],
   "source": [
    "\n",
    "bank_logit.head()\n",
    "\n",
    "bank_X = bank_logit.drop(columns = [\"y\"])\n",
    "bank_y = bank_logit[\"y\"]\n",
    "bank_raw_X = bank_raw.drop(columns = [\"y\"])\n",
    "bank_raw_y = bank_raw[\"y\"]"
   ],
   "metadata": {
    "collapsed": false,
    "pycharm": {
     "name": "#%%\n"
    }
   }
  },
  {
   "cell_type": "code",
   "execution_count": null,
   "outputs": [],
   "source": [
    "# Unbalanced data\n",
    "# Get class ratio\n",
    "weight = bank_y.value_counts()[0] / bank_y.value_counts()[1]"
   ],
   "metadata": {
    "collapsed": false,
    "pycharm": {
     "name": "#%%\n"
    }
   }
  },
  {
   "cell_type": "code",
   "execution_count": null,
   "outputs": [],
   "source": [
    "\n",
    "# Weighted logistic regression\n",
    "logit = LogisticRegression(penalty = \"none\", max_iter = 500, class_weight = {1: weight, 0: 1})\n",
    "logit = logit.fit(bank_X, bank_y)\n",
    "logit.score(bank_X, bank_y)"
   ],
   "metadata": {
    "collapsed": false,
    "pycharm": {
     "name": "#%%\n"
    }
   }
  },
  {
   "cell_type": "code",
   "execution_count": null,
   "outputs": [],
   "source": [
    "\n",
    "selector = RFE(LogisticRegression(max_iter = 1000, class_weight = {1: weight, 0: 1}))\n",
    "selector = selector.fit(bank_X, bank_y)\n",
    "logit_feature = bank_X.columns[selector.support_]"
   ],
   "metadata": {
    "collapsed": false,
    "pycharm": {
     "name": "#%%\n"
    }
   }
  },
  {
   "cell_type": "code",
   "execution_count": null,
   "outputs": [],
   "source": [
    "\n",
    "logit_rfe = LogisticRegression(penalty = \"none\", max_iter = 500, class_weight = {1: weight, 0: 1})\n",
    "logit_rfe = logit_rfe.fit(bank_X[logit_feature], bank_y)\n",
    "logit_rfe.score(bank_X[logit_feature], bank_y)\n",
    "logit_rfe.coef_\n"
   ],
   "metadata": {
    "collapsed": false,
    "pycharm": {
     "name": "#%%\n"
    }
   }
  },
  {
   "cell_type": "code",
   "execution_count": null,
   "outputs": [],
   "source": [
    "\n",
    "# Regularization\n",
    "logit_l1 = LogisticRegression(penalty = \"l2\", solver = \"saga\", max_iter = 500, class_weight = {1: weight, 0: 1})\n",
    "logit_l1 = logit_l1.fit(bank_X[logit_feature], bank_y)\n",
    "logit_l1.score(bank_X[logit_feature], bank_y)\n",
    "logit_l1.coef_\n",
    "\n",
    "logit_cv = LogisticRegressionCV(penalty = \"l2\", class_weight = {1: weight, 0: 1})\n",
    "logit_cv = logit_cv.fit(bank_X[logit_feature], bank_y)\n",
    "logit_cv.score(bank_X[logit_feature], bank_y)\n",
    "logit.coef_\n"
   ],
   "metadata": {
    "collapsed": false,
    "pycharm": {
     "name": "#%%\n"
    }
   }
  },
  {
   "cell_type": "code",
   "execution_count": null,
   "outputs": [],
   "source": [
    "\n",
    "\n",
    "# Confusion matrix\n",
    "models = [logit, logit_cv, logit_sgd]\n",
    "\n",
    "for model in models:\n",
    "    pred = model.predict(bank_X[logit_feature])\n",
    "    cm = confusion_matrix(bank_y, pred, labels = model.classes_)\n",
    "    print(recall_score(bank_y, pred))\n",
    "    disp = ConfusionMatrixDisplay(confusion_matrix = cm, display_labels = model.classes_)\n",
    "    disp.plot()\n",
    "    plt.title(str(model))\n",
    "    plt.show()\n",
    "\n",
    "# Pick logit\n",
    "logit.coef_\n",
    "{logit_feature[i]: logit.coef_[0][i] for i in range(len(logit_feature))}"
   ],
   "metadata": {
    "collapsed": false,
    "pycharm": {
     "name": "#%%\n"
    }
   }
  },
  {
   "cell_type": "code",
   "execution_count": null,
   "outputs": [],
   "source": [
    "\n",
    "# Random forest\n",
    "rf = RandomForestClassifier(criterion = \"entropy\").fit(bank_raw_X, bank_raw_y)\n",
    "rf.score(bank_raw_X, bank_raw_y)\n",
    "\n",
    "feature_importance = np.sort(np.stack((bank_raw_X.columns, rf.feature_importances_), axis = 1), axis = 0)[::-1]\n",
    "np.sum(feature_importance[:, 1])\n",
    "\n",
    "feature = [i[0] for i in feature_importance]\n",
    "importance = [i[1] for i in feature_importance]\n",
    "\n",
    "plt.figure(figsize = (16, 8))\n",
    "plt.barh(feature[:24], importance[:24], height = 0.75)\n",
    "plt.title(\"Top 25 Important Features\")\n",
    "plt.gca().invert_yaxis()\n",
    "plt.show()\n"
   ],
   "metadata": {
    "collapsed": false,
    "pycharm": {
     "name": "#%%\n"
    }
   }
  }
 ],
 "metadata": {
  "kernelspec": {
   "display_name": "Python 3",
   "language": "python",
   "name": "python3"
  },
  "language_info": {
   "codemirror_mode": {
    "name": "ipython",
    "version": 2
   },
   "file_extension": ".py",
   "mimetype": "text/x-python",
   "name": "python",
   "nbconvert_exporter": "python",
   "pygments_lexer": "ipython2",
   "version": "2.7.6"
  }
 },
 "nbformat": 4,
 "nbformat_minor": 0
}